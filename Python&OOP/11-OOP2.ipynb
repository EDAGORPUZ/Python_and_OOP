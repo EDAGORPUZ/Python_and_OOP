{
 "cells": [
  {
   "cell_type": "markdown",
   "id": "2ee9a40f-48d0-4e31-bf20-92f1f6f17a1d",
   "metadata": {},
   "source": [
    "# Inheritance(kalıtım)"
   ]
  },
  {
   "cell_type": "code",
   "execution_count": 2,
   "id": "6143dae0-c7ff-444b-bb59-c64f210edd3f",
   "metadata": {},
   "outputs": [],
   "source": [
    "class Musician():\n",
    "\n",
    "    def __init__(self, name):\n",
    "        self.name = name\n",
    "        print('musician class')\n",
    "\n",
    "    def Test1(self):\n",
    "        print('test1')\n",
    "\n",
    "    def Test2(self):\n",
    "        print('test2')"
   ]
  },
  {
   "cell_type": "code",
   "execution_count": 3,
   "id": "56081fb0-c8df-4b77-bdc0-2ef205f1b313",
   "metadata": {},
   "outputs": [
    {
     "name": "stdout",
     "output_type": "stream",
     "text": [
      "musician class\n"
     ]
    }
   ],
   "source": [
    "eda = Musician('eda')"
   ]
  },
  {
   "cell_type": "code",
   "execution_count": 4,
   "id": "2a420e86-44e5-464c-b65b-ee686624e592",
   "metadata": {},
   "outputs": [
    {
     "data": {
      "text/plain": [
       "'eda'"
      ]
     },
     "execution_count": 4,
     "metadata": {},
     "output_type": "execute_result"
    }
   ],
   "source": [
    "eda.name"
   ]
  },
  {
   "cell_type": "code",
   "execution_count": 5,
   "id": "2ea4687d-5e82-4def-bf72-02423b1b173b",
   "metadata": {},
   "outputs": [],
   "source": [
    "class MusicianPlus(Musician):   #Musician sınıfından kalıtım alınıyor\n",
    "\n",
    "    def __init__(self, name):\n",
    "        Musician.__init__(self, name)  #musician sınıfından kalıtım alınıyor\n",
    "        print('musician plus')\n",
    "\n",
    "    def Test3(self):     #extra metod ekledik\n",
    "        print('test3')\n",
    "\n",
    "    def Test1(self):   #override(musician test1i aynı kalacak. sadece plus için değişti)\n",
    "        print('changed test1')"
   ]
  },
  {
   "cell_type": "code",
   "execution_count": 6,
   "id": "4f06149f-eb30-4287-899b-13acb966115d",
   "metadata": {},
   "outputs": [
    {
     "name": "stdout",
     "output_type": "stream",
     "text": [
      "musician class\n",
      "musician plus\n"
     ]
    }
   ],
   "source": [
    "tugba = MusicianPlus('tugba')"
   ]
  },
  {
   "cell_type": "code",
   "execution_count": 7,
   "id": "8142dabb-6a25-4668-8022-e5e8bb78b280",
   "metadata": {},
   "outputs": [
    {
     "name": "stdout",
     "output_type": "stream",
     "text": [
      "changed test1\n"
     ]
    }
   ],
   "source": [
    "tugba.Test1()"
   ]
  },
  {
   "cell_type": "code",
   "execution_count": 8,
   "id": "a1aeac42-10d0-44cc-8cfd-d36b2b7377b4",
   "metadata": {},
   "outputs": [
    {
     "name": "stdout",
     "output_type": "stream",
     "text": [
      "test1\n"
     ]
    }
   ],
   "source": [
    "eda.Test1()"
   ]
  },
  {
   "cell_type": "markdown",
   "id": "730d1924-0d4b-474b-b8a0-1f535165feaf",
   "metadata": {},
   "source": [
    "# Polymorphism"
   ]
  },
  {
   "cell_type": "code",
   "execution_count": 10,
   "id": "f646a657-f65c-400c-81c0-e3fbb7b78d05",
   "metadata": {},
   "outputs": [],
   "source": [
    "class Banana():\n",
    "\n",
    "    def __init__(self, name):\n",
    "        self.name = name            #iki sınıfta da aynı isimli info metodu var\n",
    "                                            \n",
    "    def info(self):\n",
    "        return f'100 calorie {self.name}'\n",
    "\n",
    "class Apple():\n",
    "\n",
    "    def __init__(self, name):\n",
    "        self.name = name\n",
    "\n",
    "    def info(self):\n",
    "        return f'150 calorie {self.name}'"
   ]
  },
  {
   "cell_type": "code",
   "execution_count": 11,
   "id": "41c22c80-b838-4537-83c9-423876ca8701",
   "metadata": {},
   "outputs": [],
   "source": [
    "banana = Banana('banana')\n",
    "apple = Apple('apple')"
   ]
  },
  {
   "cell_type": "code",
   "execution_count": 12,
   "id": "152ccf2b-381f-4442-8374-cd94049f1a8b",
   "metadata": {},
   "outputs": [],
   "source": [
    "fruitlist = [banana, apple]"
   ]
  },
  {
   "cell_type": "code",
   "execution_count": 13,
   "id": "af69d8ba-c908-4811-9ea0-99ecd8969496",
   "metadata": {},
   "outputs": [
    {
     "name": "stdout",
     "output_type": "stream",
     "text": [
      "100 calorie banana\n",
      "150 calorie apple\n"
     ]
    }
   ],
   "source": [
    "for fruit in fruitlist:    #info metodu iki objede de farklı çalışıyor.\n",
    "    print(fruit.info())"
   ]
  },
  {
   "cell_type": "markdown",
   "id": "cf4e5ab3-88e0-4c04-a3ea-ed0f81c92fbd",
   "metadata": {},
   "source": [
    "# Encapsulation"
   ]
  },
  {
   "cell_type": "code",
   "execution_count": null,
   "id": "ea2d39b7-237e-4f86-b846-388f4e23e505",
   "metadata": {},
   "outputs": [],
   "source": [
    "class Phone():\n",
    "\n",
    "    def __init__(self, name, price):\n",
    "         self.name = name\n",
    "         self.__price = price    #__price kullanımı price'a sadece\n",
    "                                 # bu class içinden erişilmesini sağlar\n",
    "    def info(self):\n",
    "        print(f\"{self.name} price is: {self.__price}\")\n",
    "\n",
    "    def ChangePrice(self, price):   #değeri değiştirmek için aynı class içinde \n",
    "        self.__price = price        #değişim metodu oluşturabiliriz"
   ]
  },
  {
   "cell_type": "code",
   "execution_count": 16,
   "id": "8cce1cd3-1444-424e-b357-bac98eabb9a7",
   "metadata": {},
   "outputs": [],
   "source": [
    "iphone = Phone('iphone', 400)"
   ]
  },
  {
   "cell_type": "code",
   "execution_count": 17,
   "id": "a50f8898-e6d2-4911-8c8a-ca024161239b",
   "metadata": {},
   "outputs": [
    {
     "name": "stdout",
     "output_type": "stream",
     "text": [
      "iphone price is: 400\n"
     ]
    }
   ],
   "source": [
    "iphone.info()"
   ]
  },
  {
   "cell_type": "code",
   "execution_count": 18,
   "id": "ca4f595e-0ccb-43ca-b612-1224886f22bd",
   "metadata": {},
   "outputs": [],
   "source": [
    "iphone.__price = 700    #manuel dğeiştirmeyi deniyoruz   "
   ]
  },
  {
   "cell_type": "code",
   "execution_count": 19,
   "id": "7eac9ea2-63f6-40d0-b9f8-86fa7cf2e845",
   "metadata": {},
   "outputs": [
    {
     "name": "stdout",
     "output_type": "stream",
     "text": [
      "iphone price is: 400\n"
     ]
    }
   ],
   "source": [
    "iphone.info()          #manuel değişmedi"
   ]
  },
  {
   "cell_type": "code",
   "execution_count": 20,
   "id": "97d2015f-2965-4cbf-9523-9ecd35ed0f57",
   "metadata": {},
   "outputs": [],
   "source": [
    "iphone.ChangePrice(600)"
   ]
  },
  {
   "cell_type": "code",
   "execution_count": 21,
   "id": "f6a3b6a7-d912-49c3-8785-1f18d3724e13",
   "metadata": {},
   "outputs": [
    {
     "name": "stdout",
     "output_type": "stream",
     "text": [
      "iphone price is: 600\n"
     ]
    }
   ],
   "source": [
    "iphone.info()"
   ]
  },
  {
   "cell_type": "markdown",
   "id": "5c4ef16c-bf46-42a4-9e12-208dbe5ff8e5",
   "metadata": {},
   "source": [
    "# Abstraction"
   ]
  },
  {
   "cell_type": "code",
   "execution_count": 23,
   "id": "9262cca1-9ba5-44fb-b086-67a25fd7804f",
   "metadata": {},
   "outputs": [],
   "source": [
    "from abc import ABC, abstractmethod"
   ]
  },
  {
   "cell_type": "code",
   "execution_count": 24,
   "id": "2fbf99d9-cd8e-4172-b321-fdabd223339b",
   "metadata": {},
   "outputs": [],
   "source": [
    "class Car(ABC):\n",
    "\n",
    "    @abstractmethod\n",
    "    def maxSpeed(self):\n",
    "        pass\n",
    "    "
   ]
  },
  {
   "cell_type": "code",
   "execution_count": 25,
   "id": "76df483e-05cc-4e0a-97de-c8a8a4f6f087",
   "metadata": {},
   "outputs": [],
   "source": [
    "class Tesla(Car):\n",
    "\n",
    "    def maxSpeed(self):\n",
    "        print('150 km')"
   ]
  },
  {
   "cell_type": "code",
   "execution_count": 26,
   "id": "3928c8d3-5c8d-4002-9110-ec979ca79e3c",
   "metadata": {},
   "outputs": [],
   "source": [
    "tesla = Tesla()"
   ]
  },
  {
   "cell_type": "code",
   "execution_count": 27,
   "id": "3d3654df-70e3-48d4-b301-fddaf7a99668",
   "metadata": {},
   "outputs": [
    {
     "name": "stdout",
     "output_type": "stream",
     "text": [
      "150 km\n"
     ]
    }
   ],
   "source": [
    "tesla.maxSpeed()"
   ]
  },
  {
   "cell_type": "code",
   "execution_count": null,
   "id": "320e4b67-9136-400e-a73b-63571a11524b",
   "metadata": {},
   "outputs": [],
   "source": []
  }
 ],
 "metadata": {
  "kernelspec": {
   "display_name": "Python [conda env:anaconda33]",
   "language": "python",
   "name": "conda-env-anaconda33-py"
  },
  "language_info": {
   "codemirror_mode": {
    "name": "ipython",
    "version": 3
   },
   "file_extension": ".py",
   "mimetype": "text/x-python",
   "name": "python",
   "nbconvert_exporter": "python",
   "pygments_lexer": "ipython3",
   "version": "3.12.7"
  }
 },
 "nbformat": 4,
 "nbformat_minor": 5
}
