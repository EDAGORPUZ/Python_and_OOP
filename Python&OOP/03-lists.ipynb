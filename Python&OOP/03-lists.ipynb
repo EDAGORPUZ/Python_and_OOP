{
 "cells": [
  {
   "cell_type": "markdown",
   "id": "78320980-7c26-4fd2-b6ff-6be84732063f",
   "metadata": {},
   "source": [
    "## Lists"
   ]
  },
  {
   "cell_type": "code",
   "execution_count": 2,
   "id": "1c86eb90-236d-4f0c-bc58-28764cbbc527",
   "metadata": {},
   "outputs": [],
   "source": [
    "myList = [10 ,20 ,30]"
   ]
  },
  {
   "cell_type": "code",
   "execution_count": 3,
   "id": "3f7570b0-0c83-454d-8f27-eb343d74b9ca",
   "metadata": {},
   "outputs": [
    {
     "data": {
      "text/plain": [
       "10"
      ]
     },
     "execution_count": 3,
     "metadata": {},
     "output_type": "execute_result"
    }
   ],
   "source": [
    "myList[0]"
   ]
  },
  {
   "cell_type": "code",
   "execution_count": 4,
   "id": "85e87eec-6dd4-41b8-95f8-b145648c7165",
   "metadata": {},
   "outputs": [],
   "source": [
    "myList[1] = 50"
   ]
  },
  {
   "cell_type": "code",
   "execution_count": 5,
   "id": "5d781722-7468-4c0f-bd2a-16b58efda146",
   "metadata": {},
   "outputs": [
    {
     "data": {
      "text/plain": [
       "[10, 50, 30]"
      ]
     },
     "execution_count": 5,
     "metadata": {},
     "output_type": "execute_result"
    }
   ],
   "source": [
    "myList"
   ]
  },
  {
   "cell_type": "code",
   "execution_count": 6,
   "id": "7169e5f1-03d0-4207-a35b-0b22d0430b8b",
   "metadata": {},
   "outputs": [
    {
     "data": {
      "text/plain": [
       "[30, 50, 10]"
      ]
     },
     "execution_count": 6,
     "metadata": {},
     "output_type": "execute_result"
    }
   ],
   "source": [
    "myList[::-1]"
   ]
  },
  {
   "cell_type": "code",
   "execution_count": 7,
   "id": "be458375-26c2-4207-9c25-6f5363666e92",
   "metadata": {},
   "outputs": [
    {
     "data": {
      "text/plain": [
       "[10, 50, 30, 80]"
      ]
     },
     "execution_count": 7,
     "metadata": {},
     "output_type": "execute_result"
    }
   ],
   "source": [
    "myList.append(80)   #add to end\n",
    "myList"
   ]
  },
  {
   "cell_type": "code",
   "execution_count": 8,
   "id": "503e829b-aad2-47c4-ba9d-47e69fb03f11",
   "metadata": {},
   "outputs": [
    {
     "data": {
      "text/plain": [
       "1"
      ]
     },
     "execution_count": 8,
     "metadata": {},
     "output_type": "execute_result"
    }
   ],
   "source": [
    "myList.count(80)"
   ]
  },
  {
   "cell_type": "code",
   "execution_count": 9,
   "id": "6fcfc329-a93c-45a8-bea6-189f46fec653",
   "metadata": {},
   "outputs": [
    {
     "data": {
      "text/plain": [
       "[10, 50, 28, 30, 80]"
      ]
     },
     "execution_count": 9,
     "metadata": {},
     "output_type": "execute_result"
    }
   ],
   "source": [
    "myList.insert(2,28)  #Add 28 to the 2nd index\n",
    "myList"
   ]
  },
  {
   "cell_type": "code",
   "execution_count": 10,
   "id": "a991eefb-e205-428c-8af3-a74f03676910",
   "metadata": {},
   "outputs": [
    {
     "data": {
      "text/plain": [
       "[50, 28, 30, 80]"
      ]
     },
     "execution_count": 10,
     "metadata": {},
     "output_type": "execute_result"
    }
   ],
   "source": [
    "myList.remove(10)\n",
    "myList"
   ]
  },
  {
   "cell_type": "code",
   "execution_count": 23,
   "id": "138b1587-b005-4c88-b707-7b8a7afa2aec",
   "metadata": {},
   "outputs": [
    {
     "data": {
      "text/plain": [
       "[50, 28, 30, 80]"
      ]
     },
     "execution_count": 23,
     "metadata": {},
     "output_type": "execute_result"
    }
   ],
   "source": [
    "myList.reverse()\n",
    "myList"
   ]
  },
  {
   "cell_type": "code",
   "execution_count": 25,
   "id": "538c8921-b1b0-42b7-afa9-1b348c6d852e",
   "metadata": {},
   "outputs": [
    {
     "data": {
      "text/plain": [
       "[28, 30, 50, 80]"
      ]
     },
     "execution_count": 25,
     "metadata": {},
     "output_type": "execute_result"
    }
   ],
   "source": [
    "myList.sort()\n",
    "myList"
   ]
  },
  {
   "cell_type": "code",
   "execution_count": 27,
   "id": "834a5b3b-f088-427b-950d-c12f30d4c67a",
   "metadata": {},
   "outputs": [
    {
     "name": "stdin",
     "output_type": "stream",
     "text": [
      "enter x... 50\n"
     ]
    }
   ],
   "source": [
    "x = input('enter x...')  #x is str because we take it as the input"
   ]
  },
  {
   "cell_type": "code",
   "execution_count": 29,
   "id": "a04c67a7-b8da-4cf2-aede-09e11bca15a5",
   "metadata": {},
   "outputs": [
    {
     "data": {
      "text/plain": [
       "[28, 30, 50, 80, '50']"
      ]
     },
     "execution_count": 29,
     "metadata": {},
     "output_type": "execute_result"
    }
   ],
   "source": [
    " myList.append(x)\n",
    "myList"
   ]
  },
  {
   "cell_type": "code",
   "execution_count": 33,
   "id": "3d1bcf8e-02e2-4226-b0a1-aedca56a1c50",
   "metadata": {},
   "outputs": [
    {
     "data": {
      "text/plain": [
       "100"
      ]
     },
     "execution_count": 33,
     "metadata": {},
     "output_type": "execute_result"
    }
   ],
   "source": [
    "int(myList[-1])*2"
   ]
  },
  {
   "cell_type": "code",
   "execution_count": 35,
   "id": "daa26841-de7b-4ff1-a32a-061e6f99d0f9",
   "metadata": {},
   "outputs": [
    {
     "data": {
      "text/plain": [
       "[10, 20, 30, 'a', 'b', 'c']"
      ]
     },
     "execution_count": 35,
     "metadata": {},
     "output_type": "execute_result"
    }
   ],
   "source": [
    "list1 = [10, 20, 30]\n",
    "list2 = ['a', 'b', 'c']\n",
    "mixedlist = list1 + list2\n",
    "mixedlist"
   ]
  },
  {
   "cell_type": "code",
   "execution_count": 41,
   "id": "95e346f5-11e7-467e-9c85-530782fd0636",
   "metadata": {},
   "outputs": [
    {
     "data": {
      "text/plain": [
       "['a', 'b', 'c', 'a', 'b', 'c']"
      ]
     },
     "execution_count": 41,
     "metadata": {},
     "output_type": "execute_result"
    }
   ],
   "source": [
    "list2 *2"
   ]
  },
  {
   "cell_type": "markdown",
   "id": "4508c26c-dd80-4649-8e26-bd61588e82b5",
   "metadata": {},
   "source": [
    "nested list"
   ]
  },
  {
   "cell_type": "code",
   "execution_count": 47,
   "id": "4d736906-8899-425a-b275-0d8336ed30dc",
   "metadata": {},
   "outputs": [
    {
     "data": {
      "text/plain": [
       "[3, 4, 5]"
      ]
     },
     "execution_count": 47,
     "metadata": {},
     "output_type": "execute_result"
    }
   ],
   "source": [
    "nestedlist = [1, 2, [3, 4, 5]]\n",
    "nestedlist[2]"
   ]
  },
  {
   "cell_type": "code",
   "execution_count": 50,
   "id": "e77b3b61-7d15-4766-a04b-b071a9f3d656",
   "metadata": {},
   "outputs": [
    {
     "data": {
      "text/plain": [
       "4"
      ]
     },
     "execution_count": 50,
     "metadata": {},
     "output_type": "execute_result"
    }
   ],
   "source": [
    "nestedlist[2][1]"
   ]
  },
  {
   "cell_type": "code",
   "execution_count": null,
   "id": "a87b4853-af7c-45e5-96f6-b41b1eb4396a",
   "metadata": {},
   "outputs": [],
   "source": []
  }
 ],
 "metadata": {
  "kernelspec": {
   "display_name": "Python [conda env:anaconda33]",
   "language": "python",
   "name": "conda-env-anaconda33-py"
  },
  "language_info": {
   "codemirror_mode": {
    "name": "ipython",
    "version": 3
   },
   "file_extension": ".py",
   "mimetype": "text/x-python",
   "name": "python",
   "nbconvert_exporter": "python",
   "pygments_lexer": "ipython3",
   "version": "3.12.7"
  }
 },
 "nbformat": 4,
 "nbformat_minor": 5
}
