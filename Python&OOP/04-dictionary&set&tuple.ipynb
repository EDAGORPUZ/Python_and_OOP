{
 "cells": [
  {
   "cell_type": "markdown",
   "id": "b084cefc-5d4f-4dc7-8dce-d2e34b30f1b6",
   "metadata": {},
   "source": [
    "## Dictionary"
   ]
  },
  {
   "cell_type": "code",
   "execution_count": 2,
   "id": "93440700-82c6-4fdc-a6b6-fb5ed787c283",
   "metadata": {},
   "outputs": [
    {
     "data": {
      "text/plain": [
       "dict"
      ]
     },
     "execution_count": 2,
     "metadata": {},
     "output_type": "execute_result"
    }
   ],
   "source": [
    "fruit_calorie = {'banana':100, 'apple':150, 'peach':200} \n",
    "#key : banana, apple, peach...    value = 100, 150, 200\n",
    "type(fruit_calorie)"
   ]
  },
  {
   "cell_type": "code",
   "execution_count": 3,
   "id": "3c02d76c-7583-4f43-a773-ed149f25d4ad",
   "metadata": {},
   "outputs": [
    {
     "data": {
      "text/plain": [
       "dict_keys(['banana', 'apple', 'peach'])"
      ]
     },
     "execution_count": 3,
     "metadata": {},
     "output_type": "execute_result"
    }
   ],
   "source": [
    "fruit_calorie.keys()  #own type = dict_keys"
   ]
  },
  {
   "cell_type": "code",
   "execution_count": 4,
   "id": "94a0abe7-de0a-4ab2-b70c-809be29ec243",
   "metadata": {},
   "outputs": [
    {
     "data": {
      "text/plain": [
       "['banana', 'apple', 'peach']"
      ]
     },
     "execution_count": 4,
     "metadata": {},
     "output_type": "execute_result"
    }
   ],
   "source": [
    "list(fruit_calorie.keys())  #type conversion"
   ]
  },
  {
   "cell_type": "code",
   "execution_count": 5,
   "id": "ba62af88-7eff-4b91-a032-7f47482b1e65",
   "metadata": {},
   "outputs": [
    {
     "data": {
      "text/plain": [
       "{'banana': 200, 'apple': 150, 'peach': 200}"
      ]
     },
     "execution_count": 5,
     "metadata": {},
     "output_type": "execute_result"
    }
   ],
   "source": [
    "fruit_calorie['banana'] = 200   #change the value\n",
    "fruit_calorie"
   ]
  },
  {
   "cell_type": "code",
   "execution_count": 6,
   "id": "00b4df0b-fc94-4b2c-9db7-a81a7ef4d04d",
   "metadata": {},
   "outputs": [
    {
     "data": {
      "text/plain": [
       "{'banana': 200, 'apple': 150, 'peach': 200, 'melon': 250}"
      ]
     },
     "execution_count": 6,
     "metadata": {},
     "output_type": "execute_result"
    }
   ],
   "source": [
    "fruit_calorie['melon'] = 250    #add key and value\n",
    "fruit_calorie"
   ]
  },
  {
   "cell_type": "code",
   "execution_count": 7,
   "id": "cd73142c-d26b-4a18-9e07-737ad09a541d",
   "metadata": {},
   "outputs": [
    {
     "data": {
      "text/plain": [
       "250"
      ]
     },
     "execution_count": 7,
     "metadata": {},
     "output_type": "execute_result"
    }
   ],
   "source": [
    "fruit_calorie.get('melon', 0) "
   ]
  },
  {
   "cell_type": "code",
   "execution_count": 8,
   "id": "84295233-14fe-4835-ba77-afd7c6dab8c4",
   "metadata": {},
   "outputs": [
    {
     "data": {
      "text/plain": [
       "0"
      ]
     },
     "execution_count": 8,
     "metadata": {},
     "output_type": "execute_result"
    }
   ],
   "source": [
    "fruit_calorie.get('abksl', 0)  #if key isn't found, write 0"
   ]
  },
  {
   "cell_type": "markdown",
   "id": "e96bb061-2814-4695-8c32-2f72f80b8de8",
   "metadata": {},
   "source": [
    "complex exsamples"
   ]
  },
  {
   "cell_type": "code",
   "execution_count": 10,
   "id": "d1bc9f1a-c01b-4d99-b290-b20a3ab4f6fb",
   "metadata": {},
   "outputs": [],
   "source": [
    "dict = {'key1': 20, 'key2':3.14, 'key3': [0, 1, 2]}"
   ]
  },
  {
   "cell_type": "code",
   "execution_count": 11,
   "id": "97cd3753-8d7b-4a6c-96b9-5d2593a553bf",
   "metadata": {},
   "outputs": [
    {
     "data": {
      "text/plain": [
       "1"
      ]
     },
     "execution_count": 11,
     "metadata": {},
     "output_type": "execute_result"
    }
   ],
   "source": [
    "dict['key3'][1]"
   ]
  },
  {
   "cell_type": "code",
   "execution_count": 12,
   "id": "2bf2ad29-985f-4554-ada9-396a2e9ea563",
   "metadata": {},
   "outputs": [],
   "source": [
    "dict2 = {'k1':10, 'k2':{'a':100, 'b':200}}"
   ]
  },
  {
   "cell_type": "code",
   "execution_count": 13,
   "id": "881a6e67-9d1e-4f8d-9e8b-7f5d14306f4c",
   "metadata": {},
   "outputs": [
    {
     "data": {
      "text/plain": [
       "200"
      ]
     },
     "execution_count": 13,
     "metadata": {},
     "output_type": "execute_result"
    }
   ],
   "source": [
    "dict2['k2']['b']"
   ]
  },
  {
   "cell_type": "markdown",
   "id": "04a1d2b7-d7b4-4e90-8135-d33b28b5c8b5",
   "metadata": {},
   "source": [
    "## Set"
   ]
  },
  {
   "cell_type": "code",
   "execution_count": 15,
   "id": "97baf2a1-091b-489c-8dbf-f05f7188ca21",
   "metadata": {},
   "outputs": [],
   "source": [
    "myList = [10, 20, 30, 10, 20, 40, 10, 20, 40]"
   ]
  },
  {
   "cell_type": "code",
   "execution_count": 16,
   "id": "633534c7-0b8e-44d0-9b7c-53dd7e7e2348",
   "metadata": {},
   "outputs": [
    {
     "data": {
      "text/plain": [
       "{10, 20, 30, 40}"
      ]
     },
     "execution_count": 16,
     "metadata": {},
     "output_type": "execute_result"
    }
   ],
   "source": [
    "mySet = set(myList)\n",
    "mySet"
   ]
  },
  {
   "cell_type": "code",
   "execution_count": 17,
   "id": "945884f3-0f61-48d9-94fa-b6275d528ae7",
   "metadata": {},
   "outputs": [
    {
     "data": {
      "text/plain": [
       "{10, 20, 30, 40, 50}"
      ]
     },
     "execution_count": 17,
     "metadata": {},
     "output_type": "execute_result"
    }
   ],
   "source": [
    "mySet.add(50)\n",
    "mySet"
   ]
  },
  {
   "cell_type": "code",
   "execution_count": 18,
   "id": "93c119be-8153-4d1d-a442-65d5ec215be3",
   "metadata": {},
   "outputs": [],
   "source": [
    "mySet2 = [40, 50, 60]"
   ]
  },
  {
   "cell_type": "code",
   "execution_count": 19,
   "id": "6925c5df-194a-4551-b58f-e39fcae7397c",
   "metadata": {},
   "outputs": [
    {
     "data": {
      "text/plain": [
       "{10, 20, 30, 40, 50, 60}"
      ]
     },
     "execution_count": 19,
     "metadata": {},
     "output_type": "execute_result"
    }
   ],
   "source": [
    "mySet.union(mySet2)   #to connect"
   ]
  },
  {
   "cell_type": "code",
   "execution_count": 20,
   "id": "56d6cee5-3e81-438a-9e49-3799cf373648",
   "metadata": {},
   "outputs": [
    {
     "data": {
      "text/plain": [
       "{40, 50}"
      ]
     },
     "execution_count": 20,
     "metadata": {},
     "output_type": "execute_result"
    }
   ],
   "source": [
    "mySet.intersection(mySet2)"
   ]
  },
  {
   "cell_type": "code",
   "execution_count": 21,
   "id": "71f5030f-be3e-46ca-afe2-573e04a559e8",
   "metadata": {},
   "outputs": [
    {
     "data": {
      "text/plain": [
       "set()"
      ]
     },
     "execution_count": 21,
     "metadata": {},
     "output_type": "execute_result"
    }
   ],
   "source": [
    "emptySet = set()   #if we use only '{}' it will be a dict\n",
    "emptySet           #we can use this method all types"
   ]
  },
  {
   "cell_type": "code",
   "execution_count": 22,
   "id": "9889aed1-f805-434c-ab5e-497431499ad5",
   "metadata": {},
   "outputs": [
    {
     "data": {
      "text/plain": [
       "{10}"
      ]
     },
     "execution_count": 22,
     "metadata": {},
     "output_type": "execute_result"
    }
   ],
   "source": [
    "emptySet.add(10)\n",
    "emptySet"
   ]
  },
  {
   "cell_type": "markdown",
   "id": "d1f142b1-dedc-4203-93c8-0b99d47a08d9",
   "metadata": {},
   "source": [
    "## Tuple"
   ]
  },
  {
   "cell_type": "code",
   "execution_count": 24,
   "id": "426a73e8-c8d7-421e-9648-b52f02edfa0a",
   "metadata": {},
   "outputs": [
    {
     "data": {
      "text/plain": [
       "[100, 'a', 'b', 3.14]"
      ]
     },
     "execution_count": 24,
     "metadata": {},
     "output_type": "execute_result"
    }
   ],
   "source": [
    "myList = [10, 'a', 'b', 3.14]\n",
    "myList[0] = 100\n",
    "myList"
   ]
  },
  {
   "cell_type": "code",
   "execution_count": 25,
   "id": "5573a0c0-3f76-49e2-8494-684484f380eb",
   "metadata": {},
   "outputs": [],
   "source": [
    "tuple = (10, 'a', 'b', 3.14)"
   ]
  },
  {
   "cell_type": "code",
   "execution_count": 26,
   "id": "2bbc8516-b8f2-40da-a10c-6b923f143998",
   "metadata": {},
   "outputs": [],
   "source": [
    "#tuple[0] = 100   #immutability"
   ]
  },
  {
   "cell_type": "code",
   "execution_count": 27,
   "id": "90d9886b-0957-418e-9dba-0545871b786e",
   "metadata": {},
   "outputs": [
    {
     "data": {
      "text/plain": [
       "1"
      ]
     },
     "execution_count": 27,
     "metadata": {},
     "output_type": "execute_result"
    }
   ],
   "source": [
    "tuple.index('a')"
   ]
  },
  {
   "cell_type": "code",
   "execution_count": 28,
   "id": "7ae0c13b-53b0-4050-bc96-1049059a835d",
   "metadata": {},
   "outputs": [
    {
     "data": {
      "text/plain": [
       "1"
      ]
     },
     "execution_count": 28,
     "metadata": {},
     "output_type": "execute_result"
    }
   ],
   "source": [
    "tuple.count('a')"
   ]
  },
  {
   "cell_type": "markdown",
   "id": "a0db79df-a746-47c1-b912-a68230e241de",
   "metadata": {},
   "source": [
    "## Boolean"
   ]
  },
  {
   "cell_type": "code",
   "execution_count": 30,
   "id": "aa772a43-ca8d-4af9-ab1c-5690badbae0e",
   "metadata": {},
   "outputs": [
    {
     "data": {
      "text/plain": [
       "True"
      ]
     },
     "execution_count": 30,
     "metadata": {},
     "output_type": "execute_result"
    }
   ],
   "source": [
    "True"
   ]
  },
  {
   "cell_type": "code",
   "execution_count": 31,
   "id": "c69cdb92-a43e-44cb-9868-2cd248fcd301",
   "metadata": {},
   "outputs": [
    {
     "data": {
      "text/plain": [
       "False"
      ]
     },
     "execution_count": 31,
     "metadata": {},
     "output_type": "execute_result"
    }
   ],
   "source": [
    "False"
   ]
  },
  {
   "cell_type": "code",
   "execution_count": null,
   "id": "b01246e3-56f6-4542-adc7-fd86b513a586",
   "metadata": {},
   "outputs": [],
   "source": [
    "age = int(input('yasinizi giriniz...'))\n",
    "age > 18"
   ]
  },
  {
   "cell_type": "code",
   "execution_count": null,
   "id": "d0739e38-5708-4b2a-b105-a7b25a321196",
   "metadata": {},
   "outputs": [],
   "source": []
  }
 ],
 "metadata": {
  "kernelspec": {
   "display_name": "Python [conda env:anaconda33]",
   "language": "python",
   "name": "conda-env-anaconda33-py"
  },
  "language_info": {
   "codemirror_mode": {
    "name": "ipython",
    "version": 3
   },
   "file_extension": ".py",
   "mimetype": "text/x-python",
   "name": "python",
   "nbconvert_exporter": "python",
   "pygments_lexer": "ipython3",
   "version": "3.12.7"
  }
 },
 "nbformat": 4,
 "nbformat_minor": 5
}
