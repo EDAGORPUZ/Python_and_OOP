{
 "cells": [
  {
   "cell_type": "code",
   "execution_count": 18,
   "id": "b49ae665-bca1-4146-9a98-5770f1e6bc4d",
   "metadata": {},
   "outputs": [
    {
     "data": {
      "text/plain": [
       "[0, 1, 2, 3, 4, 5, 6, 7, 8, 9]"
      ]
     },
     "execution_count": 18,
     "metadata": {},
     "output_type": "execute_result"
    }
   ],
   "source": [
    "list(range(10))   #range(start, stop, step)"
   ]
  },
  {
   "cell_type": "code",
   "execution_count": 16,
   "id": "d2ca4e2e-6042-4a32-bfa0-3ff5e17aa3d0",
   "metadata": {},
   "outputs": [
    {
     "name": "stdout",
     "output_type": "stream",
     "text": [
      "10\n",
      "12\n",
      "14\n"
     ]
    }
   ],
   "source": [
    "for i in range(10, 15, 2):\n",
    "    print(i)"
   ]
  },
  {
   "cell_type": "code",
   "execution_count": 20,
   "id": "9598741a-d1a2-415c-ba10-2014d89b6ee5",
   "metadata": {},
   "outputs": [],
   "source": [
    "my_list = [10, 20, 30, 40, 50]"
   ]
  },
  {
   "cell_type": "code",
   "execution_count": 24,
   "id": "f8516f73-9a76-483b-a62f-5f7f29e09c65",
   "metadata": {},
   "outputs": [
    {
     "name": "stdout",
     "output_type": "stream",
     "text": [
      "(0, 10)\n",
      "(1, 20)\n",
      "(2, 30)\n",
      "(3, 40)\n",
      "(4, 50)\n"
     ]
    }
   ],
   "source": [
    "for x in enumerate(my_list):     #it makes tuple\n",
    "    print(x)"
   ]
  },
  {
   "cell_type": "code",
   "execution_count": 28,
   "id": "8d981a90-99ce-42ed-8214-c0b7260c827d",
   "metadata": {},
   "outputs": [],
   "source": [
    "from random import randint\n",
    "from random import shuffle"
   ]
  },
  {
   "cell_type": "code",
   "execution_count": 30,
   "id": "a61be0a0-74a0-47f6-be93-a9fd27bbd7df",
   "metadata": {},
   "outputs": [
    {
     "data": {
      "text/plain": [
       "38"
      ]
     },
     "execution_count": 30,
     "metadata": {},
     "output_type": "execute_result"
    }
   ],
   "source": [
    "randint(0, 50)"
   ]
  },
  {
   "cell_type": "code",
   "execution_count": 36,
   "id": "9395dd6f-d215-4cb8-b564-5b3ac77f5972",
   "metadata": {},
   "outputs": [
    {
     "data": {
      "text/plain": [
       "[30, 50, 40, 20, 10]"
      ]
     },
     "execution_count": 36,
     "metadata": {},
     "output_type": "execute_result"
    }
   ],
   "source": [
    "shuffle(my_list)\n",
    "my_list"
   ]
  },
  {
   "cell_type": "code",
   "execution_count": 38,
   "id": "5a6572dd-42a7-4753-8afb-7641fee39247",
   "metadata": {},
   "outputs": [],
   "source": [
    "fruit_list = ['apple', 'banana', 'peach']\n",
    "calorie_list = [100, 150, 200]\n",
    "day_list = ['monday', 'tuesday', 'wednesday']"
   ]
  },
  {
   "cell_type": "code",
   "execution_count": 42,
   "id": "a19ebced-e09e-428a-a19c-39a28abd573f",
   "metadata": {},
   "outputs": [
    {
     "data": {
      "text/plain": [
       "[('apple', 100, 'monday'),\n",
       " ('banana', 150, 'tuesday'),\n",
       " ('peach', 200, 'wednesday')]"
      ]
     },
     "execution_count": 42,
     "metadata": {},
     "output_type": "execute_result"
    }
   ],
   "source": [
    "zipped_list = zip(fruit_list, calorie_list, day_list)\n",
    "list(zipped_list)"
   ]
  },
  {
   "cell_type": "code",
   "execution_count": null,
   "id": "060beab5-f4a9-4f03-8246-86ccb9ce28c9",
   "metadata": {},
   "outputs": [],
   "source": []
  }
 ],
 "metadata": {
  "kernelspec": {
   "display_name": "Python [conda env:anaconda33]",
   "language": "python",
   "name": "conda-env-anaconda33-py"
  },
  "language_info": {
   "codemirror_mode": {
    "name": "ipython",
    "version": 3
   },
   "file_extension": ".py",
   "mimetype": "text/x-python",
   "name": "python",
   "nbconvert_exporter": "python",
   "pygments_lexer": "ipython3",
   "version": "3.12.7"
  }
 },
 "nbformat": 4,
 "nbformat_minor": 5
}
