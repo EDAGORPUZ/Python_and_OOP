{
 "cells": [
  {
   "cell_type": "code",
   "execution_count": 1,
   "id": "e27e794c-9fb1-4512-8c42-08251d7089ae",
   "metadata": {},
   "outputs": [
    {
     "name": "stdout",
     "output_type": "stream",
     "text": [
      "hello\n"
     ]
    }
   ],
   "source": [
    "def hello_python():\n",
    "    print('hello')\n",
    "    \n",
    "hello_python()"
   ]
  },
  {
   "cell_type": "code",
   "execution_count": 2,
   "id": "821b175f-4cf3-4132-9136-b697ece43c31",
   "metadata": {},
   "outputs": [
    {
     "name": "stdout",
     "output_type": "stream",
     "text": [
      "hello  eda\n"
     ]
    }
   ],
   "source": [
    "def hello_name(name):\n",
    "    print('hello ',name)\n",
    "\n",
    "hello_name('eda')"
   ]
  },
  {
   "cell_type": "code",
   "execution_count": 3,
   "id": "2103c6f0-644e-4f46-9a2c-fc35aa11c896",
   "metadata": {},
   "outputs": [
    {
     "name": "stdout",
     "output_type": "stream",
     "text": [
      "hello abc\n"
     ]
    }
   ],
   "source": [
    "def hello_surn(surname='abc'):\n",
    "    print('hello', surname)\n",
    "\n",
    "hello_surn()"
   ]
  },
  {
   "cell_type": "markdown",
   "id": "ba3e1b7d-eb92-402b-9523-70107cf3c180",
   "metadata": {},
   "source": [
    "RETURN"
   ]
  },
  {
   "cell_type": "code",
   "execution_count": 5,
   "id": "9f4da492-dbf1-43c2-b793-d638980945b9",
   "metadata": {},
   "outputs": [
    {
     "name": "stdout",
     "output_type": "stream",
     "text": [
      "70\n"
     ]
    }
   ],
   "source": [
    "def summation(num1, num2):\n",
    "    print(num1 + num2)\n",
    "\n",
    "x = summation(50,20)"
   ]
  },
  {
   "cell_type": "code",
   "execution_count": 6,
   "id": "14c186d2-e370-4015-8b0d-6ee43d5f9ec5",
   "metadata": {},
   "outputs": [
    {
     "data": {
      "text/plain": [
       "NoneType"
      ]
     },
     "execution_count": 6,
     "metadata": {},
     "output_type": "execute_result"
    }
   ],
   "source": [
    "type(x)"
   ]
  },
  {
   "cell_type": "code",
   "execution_count": 7,
   "id": "3eb60397-3357-40d3-808a-445fe0e25671",
   "metadata": {},
   "outputs": [
    {
     "name": "stdout",
     "output_type": "stream",
     "text": [
      "70\n"
     ]
    }
   ],
   "source": [
    "def summation(num1, num2):\n",
    "    print(num1 + num2)\n",
    "    return num1 + num2\n",
    "\n",
    "x = summation(50,20)"
   ]
  },
  {
   "cell_type": "code",
   "execution_count": 8,
   "id": "50a62642-6d5d-47a4-8b44-cba655f73413",
   "metadata": {},
   "outputs": [
    {
     "data": {
      "text/plain": [
       "int"
      ]
     },
     "execution_count": 8,
     "metadata": {},
     "output_type": "execute_result"
    }
   ],
   "source": [
    "type(x)"
   ]
  },
  {
   "cell_type": "code",
   "execution_count": 24,
   "id": "067405a6-a764-41d3-8a08-bf798a924fd4",
   "metadata": {},
   "outputs": [],
   "source": [
    "#args, kwargs (arguments, key word arguments)"
   ]
  },
  {
   "cell_type": "code",
   "execution_count": 26,
   "id": "9c6bc380-65e2-4b39-a3ab-01e4ae13c3f7",
   "metadata": {},
   "outputs": [
    {
     "data": {
      "text/plain": [
       "125"
      ]
     },
     "execution_count": 26,
     "metadata": {},
     "output_type": "execute_result"
    }
   ],
   "source": [
    "def args_sum(*args):    #make tuple\n",
    "    return sum(args)\n",
    "\n",
    "args_sum(20,50,55)"
   ]
  },
  {
   "cell_type": "code",
   "execution_count": 30,
   "id": "94247416-3746-49b1-bffe-424d436e6d69",
   "metadata": {},
   "outputs": [
    {
     "name": "stdout",
     "output_type": "stream",
     "text": [
      "{'apple': 200, 'banana': 150}\n"
     ]
    }
   ],
   "source": [
    "def kwargs_ex(**kwargs):   #make dictionary\n",
    "    print(kwargs)\n",
    "\n",
    "kwargs_ex(apple= 200, banana=150)"
   ]
  },
  {
   "cell_type": "code",
   "execution_count": 54,
   "id": "2967853a-1529-4eec-aba0-54bab177f599",
   "metadata": {},
   "outputs": [],
   "source": [
    "def divide_num(number):\n",
    "    return number/2\n",
    "\n",
    "mylist = [3, 5, 7, 10, 16]"
   ]
  },
  {
   "cell_type": "code",
   "execution_count": 58,
   "id": "cd85b72c-7012-49dd-924f-32aeab885be2",
   "metadata": {},
   "outputs": [
    {
     "data": {
      "text/plain": [
       "[1.5, 2.5, 3.5, 5.0, 8.0]"
      ]
     },
     "execution_count": 58,
     "metadata": {},
     "output_type": "execute_result"
    }
   ],
   "source": [
    "my_result_list = []\n",
    "\n",
    "for i in mylist:\n",
    "    x = divide_num(i)\n",
    "    my_result_list.append(x)\n",
    "\n",
    "my_result_list"
   ]
  },
  {
   "cell_type": "markdown",
   "id": "e8cba403-489b-4f95-85dd-11ee8fd03148",
   "metadata": {},
   "source": [
    "## Map, Filter, Lambda"
   ]
  },
  {
   "cell_type": "code",
   "execution_count": 61,
   "id": "d6591f96-7a33-4374-9948-ac29281cf5b3",
   "metadata": {},
   "outputs": [
    {
     "data": {
      "text/plain": [
       "[1.5, 2.5, 3.5, 5.0, 8.0]"
      ]
     },
     "execution_count": 61,
     "metadata": {},
     "output_type": "execute_result"
    }
   ],
   "source": [
    "list(map(divide_num,mylist))"
   ]
  },
  {
   "cell_type": "code",
   "execution_count": 64,
   "id": "23bca3d5-cd23-42bc-bb5e-c2cfa7fca7b7",
   "metadata": {},
   "outputs": [],
   "source": [
    "def controlstring(string):\n",
    "    return 'eda' in string\n",
    "my_string = ['eda', 'gorpuz','edanur','tekin']"
   ]
  },
  {
   "cell_type": "code",
   "execution_count": 66,
   "id": "9ab64434-3775-470e-9172-8070a6c6f03c",
   "metadata": {},
   "outputs": [
    {
     "data": {
      "text/plain": [
       "[True, False, True, False]"
      ]
     },
     "execution_count": 66,
     "metadata": {},
     "output_type": "execute_result"
    }
   ],
   "source": [
    "list(map(controlstring, my_string))"
   ]
  },
  {
   "cell_type": "code",
   "execution_count": 68,
   "id": "b6df435d-a31c-40a4-be66-00b20477e556",
   "metadata": {},
   "outputs": [
    {
     "data": {
      "text/plain": [
       "['eda', 'edanur']"
      ]
     },
     "execution_count": 68,
     "metadata": {},
     "output_type": "execute_result"
    }
   ],
   "source": [
    "list(filter(controlstring, my_string))"
   ]
  },
  {
   "cell_type": "code",
   "execution_count": 71,
   "id": "1d43e8ec-bae6-41fe-b609-e75b5ff0ad0e",
   "metadata": {},
   "outputs": [],
   "source": [
    "lmbda = lambda num: num*3"
   ]
  },
  {
   "cell_type": "code",
   "execution_count": 73,
   "id": "e9dbef9a-8a95-44ef-853f-5f973cd93e10",
   "metadata": {},
   "outputs": [
    {
     "data": {
      "text/plain": [
       "27"
      ]
     },
     "execution_count": 73,
     "metadata": {},
     "output_type": "execute_result"
    }
   ],
   "source": [
    "lmbda(9)"
   ]
  },
  {
   "cell_type": "markdown",
   "id": "99ce225b-5436-4005-aa87-556bb57d2106",
   "metadata": {},
   "source": [
    "## Scope(kapsam)"
   ]
  },
  {
   "cell_type": "markdown",
   "id": "73384519-c7d3-42d1-9d27-78ae492f1905",
   "metadata": {},
   "source": [
    "LEGB : L->local, E->enclosing, G->global, B->built-in"
   ]
  },
  {
   "cell_type": "code",
   "execution_count": 101,
   "id": "ff8a1a13-7420-4807-b56c-5928b27335c6",
   "metadata": {},
   "outputs": [],
   "source": [
    "#Global\n",
    "mystring = 'eda'\n",
    "\n",
    "def myFunction():\n",
    "    #Enclosing\n",
    "    mystring = 'eda2'\n",
    "    print(mystring)\n",
    "\n",
    "    def myFunction2():\n",
    "        #Local\n",
    "        mystring = 'eda3'\n",
    "        print(mystring)\n",
    "\n",
    "    myFunction2()"
   ]
  },
  {
   "cell_type": "code",
   "execution_count": 103,
   "id": "7b6c3c2c-d4f9-4cf2-9e5b-6cfea9f13b0c",
   "metadata": {},
   "outputs": [
    {
     "data": {
      "text/plain": [
       "'eda'"
      ]
     },
     "execution_count": 103,
     "metadata": {},
     "output_type": "execute_result"
    }
   ],
   "source": [
    "mystring"
   ]
  },
  {
   "cell_type": "code",
   "execution_count": 105,
   "id": "e591a4f5-1622-4035-804f-1ef8dabef851",
   "metadata": {},
   "outputs": [
    {
     "name": "stdout",
     "output_type": "stream",
     "text": [
      "eda2\n",
      "eda3\n"
     ]
    }
   ],
   "source": [
    "myFunction()"
   ]
  },
  {
   "cell_type": "code",
   "execution_count": 125,
   "id": "105bb48d-26f3-47ae-915b-2320dbacde48",
   "metadata": {},
   "outputs": [],
   "source": [
    "y = 10\n",
    "def new_function(y):\n",
    "    print(y)\n",
    "    y = 5\n",
    "    print(y)\n",
    "    return y"
   ]
  },
  {
   "cell_type": "code",
   "execution_count": 127,
   "id": "d27e2958-1b1c-4b0a-ae7c-79f5233b4b60",
   "metadata": {},
   "outputs": [
    {
     "name": "stdout",
     "output_type": "stream",
     "text": [
      "10\n",
      "5\n"
     ]
    },
    {
     "data": {
      "text/plain": [
       "5"
      ]
     },
     "execution_count": 127,
     "metadata": {},
     "output_type": "execute_result"
    }
   ],
   "source": [
    "new_function(10)"
   ]
  },
  {
   "cell_type": "code",
   "execution_count": 131,
   "id": "e847b294-eee2-450b-b2f8-149adf1e88c3",
   "metadata": {},
   "outputs": [],
   "source": [
    "y = 10\n",
    "def changeY():\n",
    "    global y\n",
    "    y = 5\n",
    "    print(y)\n",
    "    return y"
   ]
  },
  {
   "cell_type": "code",
   "execution_count": null,
   "id": "e7e7aa04-6d44-4aa3-81fc-54838b556615",
   "metadata": {},
   "outputs": [],
   "source": [
    "changeY()"
   ]
  },
  {
   "cell_type": "code",
   "execution_count": null,
   "id": "c0c74617-9026-4dff-9b13-1cbb0fcab429",
   "metadata": {},
   "outputs": [],
   "source": []
  }
 ],
 "metadata": {
  "kernelspec": {
   "display_name": "Python [conda env:base] *",
   "language": "python",
   "name": "conda-base-py"
  },
  "language_info": {
   "codemirror_mode": {
    "name": "ipython",
    "version": 3
   },
   "file_extension": ".py",
   "mimetype": "text/x-python",
   "name": "python",
   "nbconvert_exporter": "python",
   "pygments_lexer": "ipython3",
   "version": "3.12.7"
  }
 },
 "nbformat": 4,
 "nbformat_minor": 5
}
