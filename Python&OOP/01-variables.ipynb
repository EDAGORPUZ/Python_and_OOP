{
 "cells": [
  {
   "cell_type": "markdown",
   "id": "1c686c72-7012-4f21-919c-3055983d6b80",
   "metadata": {},
   "source": [
    "## variables"
   ]
  },
  {
   "cell_type": "code",
   "execution_count": 2,
   "id": "56289f34-d261-4a2f-bc21-13155b446346",
   "metadata": {},
   "outputs": [],
   "source": [
    "#restart and run!!!"
   ]
  },
  {
   "cell_type": "code",
   "execution_count": 3,
   "id": "b3a14cbe-e8f9-4d48-b2e2-0a2dd8a78cd0",
   "metadata": {},
   "outputs": [],
   "source": [
    "pi = 3.14"
   ]
  },
  {
   "cell_type": "code",
   "execution_count": 4,
   "id": "a83381f2-0e0f-49d3-9123-54477edaba4f",
   "metadata": {},
   "outputs": [
    {
     "data": {
      "text/plain": [
       "6.28"
      ]
     },
     "execution_count": 4,
     "metadata": {},
     "output_type": "execute_result"
    }
   ],
   "source": [
    "pi*2"
   ]
  },
  {
   "cell_type": "code",
   "execution_count": 5,
   "id": "42bb8c1d-5c45-48b5-b286-28cd88438e79",
   "metadata": {},
   "outputs": [
    {
     "data": {
      "text/plain": [
       "float"
      ]
     },
     "execution_count": 5,
     "metadata": {},
     "output_type": "execute_result"
    }
   ],
   "source": [
    "type(pi)"
   ]
  },
  {
   "cell_type": "code",
   "execution_count": 6,
   "id": "0a8976b7-49c4-43fd-be32-a3ed4767d61a",
   "metadata": {},
   "outputs": [],
   "source": [
    "#camelCase\n",
    "#snake_case"
   ]
  },
  {
   "cell_type": "code",
   "execution_count": 7,
   "id": "191cea3b-ef02-4eec-a606-6c14dbe5bd4f",
   "metadata": {},
   "outputs": [
    {
     "data": {
      "text/plain": [
       "10.0"
      ]
     },
     "execution_count": 7,
     "metadata": {},
     "output_type": "execute_result"
    }
   ],
   "source": [
    "40/4"
   ]
  },
  {
   "cell_type": "code",
   "execution_count": 8,
   "id": "e459c3c0-b33c-47b7-8aca-dc42e61e79eb",
   "metadata": {},
   "outputs": [
    {
     "data": {
      "text/plain": [
       "float"
      ]
     },
     "execution_count": 8,
     "metadata": {},
     "output_type": "execute_result"
    }
   ],
   "source": [
    "type(40/4)  "
   ]
  },
  {
   "cell_type": "code",
   "execution_count": 9,
   "id": "ca1cf7aa-ec82-48de-95ab-a96877164fac",
   "metadata": {},
   "outputs": [
    {
     "data": {
      "text/plain": [
       "1"
      ]
     },
     "execution_count": 9,
     "metadata": {},
     "output_type": "execute_result"
    }
   ],
   "source": [
    "10%3   #remainnder"
   ]
  },
  {
   "cell_type": "code",
   "execution_count": 10,
   "id": "1468bbde-48d0-42ee-8383-e15a6f4fb58e",
   "metadata": {},
   "outputs": [
    {
     "data": {
      "text/plain": [
       "str"
      ]
     },
     "execution_count": 10,
     "metadata": {},
     "output_type": "execute_result"
    }
   ],
   "source": [
    "type('hello world')"
   ]
  },
  {
   "cell_type": "code",
   "execution_count": 11,
   "id": "d4d711f8-40de-4e1c-bc2d-b9a4681e69b3",
   "metadata": {},
   "outputs": [],
   "source": [
    "name = 'eda'"
   ]
  },
  {
   "cell_type": "code",
   "execution_count": 12,
   "id": "530698f5-f1e1-4387-b204-a0727c31ebb4",
   "metadata": {},
   "outputs": [
    {
     "data": {
      "text/plain": [
       "'Eda'"
      ]
     },
     "execution_count": 12,
     "metadata": {},
     "output_type": "execute_result"
    }
   ],
   "source": [
    "name.capitalize()"
   ]
  },
  {
   "cell_type": "code",
   "execution_count": 13,
   "id": "806ba771-e249-4f61-ad4c-a34b502d7917",
   "metadata": {},
   "outputs": [
    {
     "name": "stdout",
     "output_type": "stream",
     "text": [
      "Help on built-in function count:\n",
      "\n",
      "count(...) method of builtins.str instance\n",
      "    S.count(sub[, start[, end]]) -> int\n",
      "\n",
      "    Return the number of non-overlapping occurrences of substring sub in\n",
      "    string S[start:end].  Optional arguments start and end are\n",
      "    interpreted as in slice notation.\n",
      "\n"
     ]
    }
   ],
   "source": [
    "help(name.count)"
   ]
  },
  {
   "cell_type": "code",
   "execution_count": 14,
   "id": "c1156fd6-bd92-4c6f-bcde-b0775129ef8a",
   "metadata": {},
   "outputs": [
    {
     "data": {
      "text/plain": [
       "'EDA'"
      ]
     },
     "execution_count": 14,
     "metadata": {},
     "output_type": "execute_result"
    }
   ],
   "source": [
    "name.upper()"
   ]
  },
  {
   "cell_type": "code",
   "execution_count": 15,
   "id": "11d341b5-0105-48cb-9d0f-a908b50bcb76",
   "metadata": {},
   "outputs": [
    {
     "data": {
      "text/plain": [
       "3"
      ]
     },
     "execution_count": 15,
     "metadata": {},
     "output_type": "execute_result"
    }
   ],
   "source": [
    "len(name)"
   ]
  },
  {
   "cell_type": "code",
   "execution_count": null,
   "id": "7b92a927-49f1-4d26-80ec-ec7a996846c0",
   "metadata": {},
   "outputs": [],
   "source": []
  }
 ],
 "metadata": {
  "kernelspec": {
   "display_name": "Python [conda env:anaconda33]",
   "language": "python",
   "name": "conda-env-anaconda33-py"
  },
  "language_info": {
   "codemirror_mode": {
    "name": "ipython",
    "version": 3
   },
   "file_extension": ".py",
   "mimetype": "text/x-python",
   "name": "python",
   "nbconvert_exporter": "python",
   "pygments_lexer": "ipython3",
   "version": "3.12.7"
  }
 },
 "nbformat": 4,
 "nbformat_minor": 5
}
