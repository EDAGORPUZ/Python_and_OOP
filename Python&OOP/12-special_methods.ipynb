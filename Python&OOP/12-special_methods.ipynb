{
 "cells": [
  {
   "cell_type": "markdown",
   "id": "00a2d073-2392-4370-a0f3-64114266b3b6",
   "metadata": {},
   "source": [
    "## Special Methods"
   ]
  },
  {
   "cell_type": "code",
   "execution_count": 55,
   "id": "0a3ae2e3-93d5-4d92-95d5-b663c1e3505c",
   "metadata": {},
   "outputs": [],
   "source": [
    "class Fruit():\n",
    "\n",
    "    def __init__(self, name, calorie):\n",
    "        self.name = name\n",
    "        self.calorie = calorie\n",
    "\n",
    "    def __str__(self):      #varsayılan metni manuel değiştirme\n",
    "        return(f'{self.name}: {self.calorie}')\n",
    "\n",
    "    def __len__(self):    #len metodunun işlevini değiştiriyoruz\n",
    "        return 150       "
   ]
  },
  {
   "cell_type": "code",
   "execution_count": 57,
   "id": "d7b2f572-69db-4ca6-8110-f663b32f085a",
   "metadata": {},
   "outputs": [],
   "source": [
    "fruit = Fruit('apple', 150)"
   ]
  },
  {
   "cell_type": "code",
   "execution_count": 59,
   "id": "0cbf8fc5-a318-4531-a74f-3485ce0c663a",
   "metadata": {},
   "outputs": [
    {
     "data": {
      "text/plain": [
       "'apple'"
      ]
     },
     "execution_count": 59,
     "metadata": {},
     "output_type": "execute_result"
    }
   ],
   "source": [
    "fruit.name"
   ]
  },
  {
   "cell_type": "code",
   "execution_count": 61,
   "id": "a5b8beb2-67dc-4a18-bb7b-b5507102901e",
   "metadata": {},
   "outputs": [
    {
     "name": "stdout",
     "output_type": "stream",
     "text": [
      "apple: 150\n"
     ]
    }
   ],
   "source": [
    "print(fruit)   #__str__ sayesinde oldu."
   ]
  },
  {
   "cell_type": "code",
   "execution_count": 63,
   "id": "52c943e9-4950-4490-97bb-73d88f5e5a96",
   "metadata": {},
   "outputs": [
    {
     "data": {
      "text/plain": [
       "150"
      ]
     },
     "execution_count": 63,
     "metadata": {},
     "output_type": "execute_result"
    }
   ],
   "source": [
    "len(fruit)    #__len__ sayesinde oldu"
   ]
  },
  {
   "cell_type": "markdown",
   "id": "bde3d148-3ad9-49fb-84f1-71423db315ec",
   "metadata": {},
   "source": [
    "# Errors"
   ]
  },
  {
   "cell_type": "code",
   "execution_count": 85,
   "id": "f9f06c11-f8fb-4e6c-a20a-84b1aa9c4668",
   "metadata": {},
   "outputs": [
    {
     "name": "stdin",
     "output_type": "stream",
     "text": [
      "enter age... eda\n"
     ]
    },
    {
     "name": "stdout",
     "output_type": "stream",
     "text": [
      "enter your age!!!\n",
      "finally\n"
     ]
    },
    {
     "name": "stdin",
     "output_type": "stream",
     "text": [
      "enter age... 15\n"
     ]
    },
    {
     "name": "stdout",
     "output_type": "stream",
     "text": [
      "30\n",
      "finally\n"
     ]
    }
   ],
   "source": [
    "while True:    #doğru yaş girilene kadar döngüde kal\n",
    "    try:     #hata verebilecek olan kod parçasını gir\n",
    "        age = int(input('enter age...'))\n",
    "        print(age * 2)\n",
    "        break    #yaş doğru girilince döngüyü kır\n",
    "    except:   #hata alınırsa error vermek yerine mesaj döndür\n",
    "        print('enter your age!!!')\n",
    "    finally:      #try da olsa except de olsa her zaman çalışır\n",
    "        print('finally')"
   ]
  },
  {
   "cell_type": "code",
   "execution_count": null,
   "id": "db0bbb69-a90c-4d57-9b27-2d132ecfab3b",
   "metadata": {},
   "outputs": [],
   "source": []
  }
 ],
 "metadata": {
  "kernelspec": {
   "display_name": "Python [conda env:anaconda33]",
   "language": "python",
   "name": "conda-env-anaconda33-py"
  },
  "language_info": {
   "codemirror_mode": {
    "name": "ipython",
    "version": 3
   },
   "file_extension": ".py",
   "mimetype": "text/x-python",
   "name": "python",
   "nbconvert_exporter": "python",
   "pygments_lexer": "ipython3",
   "version": "3.12.7"
  }
 },
 "nbformat": 4,
 "nbformat_minor": 5
}
