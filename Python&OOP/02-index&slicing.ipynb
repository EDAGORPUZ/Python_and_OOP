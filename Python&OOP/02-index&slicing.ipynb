{
 "cells": [
  {
   "cell_type": "markdown",
   "id": "6cb5cfd2-792c-4e66-938c-adda19ace47c",
   "metadata": {},
   "source": [
    "## Index"
   ]
  },
  {
   "cell_type": "code",
   "execution_count": 1,
   "id": "f22f211c-784a-47f0-ab11-f62e9ffc7e0b",
   "metadata": {},
   "outputs": [],
   "source": [
    "myString = 'hello world'"
   ]
  },
  {
   "cell_type": "code",
   "execution_count": 2,
   "id": "06b17af8-91ea-4a13-a8cd-7fb4da627146",
   "metadata": {},
   "outputs": [
    {
     "data": {
      "text/plain": [
       "'hd'"
      ]
     },
     "execution_count": 2,
     "metadata": {},
     "output_type": "execute_result"
    }
   ],
   "source": [
    "myString[0] + myString[-1]"
   ]
  },
  {
   "cell_type": "markdown",
   "id": "2b870dc3-c091-4f38-bf97-cb8e7fe71159",
   "metadata": {},
   "source": [
    "## Slicing"
   ]
  },
  {
   "cell_type": "code",
   "execution_count": 3,
   "id": "50cb4436-a8c3-4748-b832-2ea4faccd6a5",
   "metadata": {},
   "outputs": [],
   "source": [
    "barcode = 'ABCD12345'"
   ]
  },
  {
   "cell_type": "code",
   "execution_count": 4,
   "id": "e884fdb7-312b-442b-ad0f-54aac97fa73a",
   "metadata": {},
   "outputs": [],
   "source": [
    "#barcode[starting index : stopping index : stepping index]"
   ]
  },
  {
   "cell_type": "code",
   "execution_count": 5,
   "id": "4449d561-5045-4871-bb20-c163a4804072",
   "metadata": {},
   "outputs": [
    {
     "data": {
      "text/plain": [
       "'ABC'"
      ]
     },
     "execution_count": 5,
     "metadata": {},
     "output_type": "execute_result"
    }
   ],
   "source": [
    "barcode[:3]"
   ]
  },
  {
   "cell_type": "code",
   "execution_count": 6,
   "id": "4c15d53a-a2e8-4fb5-82de-6be00ce87762",
   "metadata": {},
   "outputs": [
    {
     "data": {
      "text/plain": [
       "'BCD'"
      ]
     },
     "execution_count": 6,
     "metadata": {},
     "output_type": "execute_result"
    }
   ],
   "source": [
    "barcode[1:4]"
   ]
  },
  {
   "cell_type": "code",
   "execution_count": 7,
   "id": "4f895443-bf3a-449b-b74c-9ccbdd50b47b",
   "metadata": {},
   "outputs": [
    {
     "data": {
      "text/plain": [
       "'AD3'"
      ]
     },
     "execution_count": 7,
     "metadata": {},
     "output_type": "execute_result"
    }
   ],
   "source": [
    "barcode[::3]"
   ]
  },
  {
   "cell_type": "code",
   "execution_count": 8,
   "id": "d30d92fd-ca64-45aa-b6ef-7a535cc1350e",
   "metadata": {},
   "outputs": [
    {
     "data": {
      "text/plain": [
       "'54321DCBA'"
      ]
     },
     "execution_count": 8,
     "metadata": {},
     "output_type": "execute_result"
    }
   ],
   "source": [
    "barcode[::-1]"
   ]
  },
  {
   "cell_type": "code",
   "execution_count": null,
   "id": "f942e187-5391-4882-8373-a26c06af94bf",
   "metadata": {},
   "outputs": [],
   "source": []
  }
 ],
 "metadata": {
  "kernelspec": {
   "display_name": "Python [conda env:anaconda33]",
   "language": "python",
   "name": "conda-env-anaconda33-py"
  },
  "language_info": {
   "codemirror_mode": {
    "name": "ipython",
    "version": 3
   },
   "file_extension": ".py",
   "mimetype": "text/x-python",
   "name": "python",
   "nbconvert_exporter": "python",
   "pygments_lexer": "ipython3",
   "version": "3.12.7"
  }
 },
 "nbformat": 4,
 "nbformat_minor": 5
}
