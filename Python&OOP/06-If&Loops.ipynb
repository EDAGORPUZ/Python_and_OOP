{
 "cells": [
  {
   "cell_type": "code",
   "execution_count": 1,
   "id": "43f9eb47-ad8e-4b56-b42b-810dd97851ef",
   "metadata": {},
   "outputs": [
    {
     "data": {
      "text/plain": [
       "True"
      ]
     },
     "execution_count": 1,
     "metadata": {},
     "output_type": "execute_result"
    }
   ],
   "source": [
    "10 in [10, 20, 30]"
   ]
  },
  {
   "cell_type": "code",
   "execution_count": 2,
   "id": "aa292beb-89b7-4543-99d4-596a6ed0798f",
   "metadata": {},
   "outputs": [
    {
     "data": {
      "text/plain": [
       "True"
      ]
     },
     "execution_count": 2,
     "metadata": {},
     "output_type": "execute_result"
    }
   ],
   "source": [
    "5 not in [10, 20, 30]"
   ]
  },
  {
   "cell_type": "markdown",
   "id": "872cacda-f7f1-4c25-9dee-71bb0c0b8116",
   "metadata": {},
   "source": [
    "## IF"
   ]
  },
  {
   "cell_type": "code",
   "execution_count": 4,
   "id": "22dd0430-e230-4347-9892-b8170d5ea264",
   "metadata": {},
   "outputs": [
    {
     "name": "stdin",
     "output_type": "stream",
     "text": [
      "enter your age... 15\n"
     ]
    }
   ],
   "source": [
    "age = int(input('enter your age...'))"
   ]
  },
  {
   "cell_type": "code",
   "execution_count": 5,
   "id": "c48d916d-6560-4ea3-bf43-f8492085b15b",
   "metadata": {},
   "outputs": [
    {
     "name": "stdout",
     "output_type": "stream",
     "text": [
      "age <= 18\n"
     ]
    }
   ],
   "source": [
    "if age<= 18:\n",
    "    print('age <= 18')\n",
    "elif  age > 18 and age < 30:\n",
    "    print('18 < age < 30')\n",
    "else:\n",
    "    print('age > 30')"
   ]
  },
  {
   "cell_type": "code",
   "execution_count": 6,
   "id": "d3896ad6-d17b-4ede-9795-65452456403a",
   "metadata": {},
   "outputs": [
    {
     "name": "stdin",
     "output_type": "stream",
     "text": [
      "enter superhero... wonder woman\n"
     ]
    }
   ],
   "source": [
    "my_superhero = input('enter superhero...')"
   ]
  },
  {
   "cell_type": "code",
   "execution_count": 7,
   "id": "055217a3-8e97-40e8-94e3-bc689ee78d16",
   "metadata": {},
   "outputs": [],
   "source": [
    "my_superhero_list =  ['wonder woman', 'black widow', 'iron man']"
   ]
  },
  {
   "cell_type": "code",
   "execution_count": 8,
   "id": "5077fd2f-7ce7-47bf-b9cf-94a215dab032",
   "metadata": {},
   "outputs": [
    {
     "name": "stdout",
     "output_type": "stream",
     "text": [
      ":)\n"
     ]
    }
   ],
   "source": [
    "if my_superhero in my_superhero_list:\n",
    "    print(':)')\n",
    "else:\n",
    "    print(':(')"
   ]
  },
  {
   "cell_type": "markdown",
   "id": "7ad39b72-cdd6-445e-b3b7-4e0df8ceadbf",
   "metadata": {},
   "source": [
    "## For"
   ]
  },
  {
   "cell_type": "code",
   "execution_count": 10,
   "id": "95a72b9d-e008-41aa-8bed-db9f56e3ac14",
   "metadata": {},
   "outputs": [],
   "source": [
    "my_list = [10, 20, 30, 40, 50, 60, 70]"
   ]
  },
  {
   "cell_type": "code",
   "execution_count": 11,
   "id": "86e19fda-0fa8-4ede-becc-12fb8920d64c",
   "metadata": {},
   "outputs": [
    {
     "name": "stdout",
     "output_type": "stream",
     "text": [
      "30\n",
      "60\n"
     ]
    }
   ],
   "source": [
    "for x in my_list:\n",
    "    if(x%30 == 0):\n",
    "        print(x)"
   ]
  },
  {
   "cell_type": "code",
   "execution_count": 12,
   "id": "8a491201-95fb-4d7a-b882-67b2d8dfa19a",
   "metadata": {},
   "outputs": [],
   "source": [
    "my_list = [(1, 2), (3, 4), (5, 6)]"
   ]
  },
  {
   "cell_type": "code",
   "execution_count": 13,
   "id": "c6e0cb40-1380-44dd-88c3-b58e46781390",
   "metadata": {},
   "outputs": [
    {
     "name": "stdout",
     "output_type": "stream",
     "text": [
      "1\n",
      "3\n",
      "5\n"
     ]
    }
   ],
   "source": [
    "for (x,y) in my_list:\n",
    "    print(x)"
   ]
  },
  {
   "cell_type": "code",
   "execution_count": 14,
   "id": "684555eb-b5f8-42d5-9541-1c2ff641dbb9",
   "metadata": {},
   "outputs": [],
   "source": [
    "my_dict = {'k1':10, 'k2':20, 'k3':30}"
   ]
  },
  {
   "cell_type": "code",
   "execution_count": 15,
   "id": "c753cbcf-31b1-4939-a3a8-0e6d06c0dd80",
   "metadata": {},
   "outputs": [
    {
     "name": "stdout",
     "output_type": "stream",
     "text": [
      "10\n",
      "20\n",
      "30\n"
     ]
    }
   ],
   "source": [
    "for (key, value) in my_dict.items():\n",
    "    print(value)"
   ]
  },
  {
   "cell_type": "code",
   "execution_count": 16,
   "id": "d964b78e-ab13-44e8-8b7c-391b01ca8b15",
   "metadata": {},
   "outputs": [],
   "source": [
    "#continue - break - pass"
   ]
  },
  {
   "cell_type": "code",
   "execution_count": 17,
   "id": "b43d83fb-447d-4c1e-acca-a7cc916d1e15",
   "metadata": {},
   "outputs": [],
   "source": [
    "my_list = [10, 20, 30, 40, 50, 60, 70, 80]"
   ]
  },
  {
   "cell_type": "code",
   "execution_count": 18,
   "id": "fc747b55-2d21-4047-9907-1f259cc76256",
   "metadata": {},
   "outputs": [
    {
     "name": "stdout",
     "output_type": "stream",
     "text": [
      "10\n",
      "20\n",
      "30\n",
      "40\n",
      "yes\n"
     ]
    }
   ],
   "source": [
    "for x in my_list:\n",
    "    print(x)\n",
    "    if x == 40:\n",
    "        print('yes')\n",
    "        break"
   ]
  },
  {
   "cell_type": "code",
   "execution_count": 19,
   "id": "057a543c-cea8-4e22-bd71-e307df85c3f0",
   "metadata": {},
   "outputs": [
    {
     "name": "stdout",
     "output_type": "stream",
     "text": [
      "10\n",
      "20\n",
      "30\n",
      "50\n",
      "60\n",
      "70\n",
      "80\n"
     ]
    }
   ],
   "source": [
    "for x in my_list:\n",
    "    if x == 40:\n",
    "        continue\n",
    "    print(x)"
   ]
  },
  {
   "cell_type": "code",
   "execution_count": 20,
   "id": "d16ffd69-0652-40a6-ac5b-6761084ed3d7",
   "metadata": {},
   "outputs": [],
   "source": [
    "for x in my_list:\n",
    "    if x == 40:\n",
    "        pass"
   ]
  },
  {
   "cell_type": "markdown",
   "id": "44440fab-fa68-49dd-9344-6e405055cd69",
   "metadata": {},
   "source": [
    "## While"
   ]
  },
  {
   "cell_type": "code",
   "execution_count": 22,
   "id": "e1966181-15f3-46ad-a27c-c9e70ee6e4b0",
   "metadata": {},
   "outputs": [],
   "source": [
    "x = 0"
   ]
  },
  {
   "cell_type": "code",
   "execution_count": 44,
   "id": "c46dcca5-94f9-49bb-abca-b0e2cfbe3ffb",
   "metadata": {},
   "outputs": [
    {
     "name": "stdout",
     "output_type": "stream",
     "text": [
      "0\n",
      "1\n",
      "2\n",
      "3\n",
      "4\n",
      "5\n",
      "6\n",
      "7\n",
      "8\n",
      "9\n"
     ]
    }
   ],
   "source": [
    "while x < 10:\n",
    "    print(x)\n",
    "    x = x + 1"
   ]
  },
  {
   "cell_type": "code",
   "execution_count": 56,
   "id": "5838a6b6-f0a3-4b1d-bb02-99cbc3301967",
   "metadata": {},
   "outputs": [
    {
     "name": "stdout",
     "output_type": "stream",
     "text": [
      "value of p = 0\n",
      "value of p = 0\n",
      "value of p = 1\n",
      "value of p = 1\n",
      "value of p = 2\n",
      "value of p = 2\n",
      "value of p = 3\n",
      "value of p = 3\n",
      "value of p = 4\n",
      "value of p = 4\n"
     ]
    }
   ],
   "source": [
    "p = 0 \n",
    "while p < 5:\n",
    "    print(f'value of p = {p}')\n",
    "    print('value of p =', p )\n",
    "    p = p +1"
   ]
  },
  {
   "cell_type": "code",
   "execution_count": null,
   "id": "aad6c2e1-45f0-4e80-8b71-a69e2efe6f35",
   "metadata": {},
   "outputs": [],
   "source": []
  }
 ],
 "metadata": {
  "kernelspec": {
   "display_name": "Python [conda env:anaconda33]",
   "language": "python",
   "name": "conda-env-anaconda33-py"
  },
  "language_info": {
   "codemirror_mode": {
    "name": "ipython",
    "version": 3
   },
   "file_extension": ".py",
   "mimetype": "text/x-python",
   "name": "python",
   "nbconvert_exporter": "python",
   "pygments_lexer": "ipython3",
   "version": "3.12.7"
  }
 },
 "nbformat": 4,
 "nbformat_minor": 5
}
