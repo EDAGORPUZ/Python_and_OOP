{
 "cells": [
  {
   "cell_type": "code",
   "execution_count": 1,
   "id": "7b795507-ac59-45e8-972c-47100021c5cd",
   "metadata": {},
   "outputs": [],
   "source": [
    "class Person():\n",
    "    # name = ''      #zaten init'te self ile istediğimiz için\n",
    "    # age = 0        #bu bilgileri tekrar burada tanımlamaya gerek yok\n",
    "    # gender = ''\n",
    "    job = 'developer' #zorunlu olmayan özellik(default olarak tanımladık)\n",
    "    \n",
    "    #method, zorunlu bilgi alımı\n",
    "    def __init__(self, name, age, gender):\n",
    "        self.name = name         #person classındaki ismi alınan isme eşitle\n",
    "        self.age = age           #(alınan yaşı objenin yaşı yap)\n",
    "        self.gender = gender\n",
    "        \n",
    "    #metod tanıımlıyoruz\n",
    "    def test(self):\n",
    "        print('test')"
   ]
  },
  {
   "cell_type": "code",
   "execution_count": 2,
   "id": "34cbe616-1dec-459e-a264-d3ebf4332d41",
   "metadata": {},
   "outputs": [],
   "source": [
    "eda = Person('eda', 20, 'female')  #sınıftan obje oluşturma"
   ]
  },
  {
   "cell_type": "code",
   "execution_count": 3,
   "id": "9c30edd9-06c5-4989-b1bd-93b2a5ad7d72",
   "metadata": {},
   "outputs": [
    {
     "data": {
      "text/plain": [
       "20"
      ]
     },
     "execution_count": 3,
     "metadata": {},
     "output_type": "execute_result"
    }
   ],
   "source": [
    "eda.age  "
   ]
  },
  {
   "cell_type": "code",
   "execution_count": 4,
   "id": "beb63d29-df47-4821-b840-c7c859290ab8",
   "metadata": {},
   "outputs": [
    {
     "data": {
      "text/plain": [
       "'developer'"
      ]
     },
     "execution_count": 4,
     "metadata": {},
     "output_type": "execute_result"
    }
   ],
   "source": [
    "eda.job"
   ]
  },
  {
   "cell_type": "code",
   "execution_count": null,
   "id": "af4656ef-0e43-4c53-9bdb-c489fa50776f",
   "metadata": {},
   "outputs": [],
   "source": []
  },
  {
   "cell_type": "code",
   "execution_count": 5,
   "id": "6af61e2c-e948-48dc-8de1-6a3ee5b6d2f4",
   "metadata": {},
   "outputs": [],
   "source": [
    "class Dog():\n",
    "    year = 7\n",
    "\n",
    "    def __init__(self, age = 5):\n",
    "        self.age = age\n",
    "        self.dogHumanAge = age * self.year   #humanAge metodunu oluşturmadan da\n",
    "                                             #direkt bu şekilde özellik tanımlanabilir\n",
    "    #metod oluşturma\n",
    "    def humanAge(self):\n",
    "        return self.age * Dog.year     #Dog.year = self.year"
   ]
  },
  {
   "cell_type": "code",
   "execution_count": 6,
   "id": "ff3cbe55-d615-4c1b-bae9-809e62afb33a",
   "metadata": {},
   "outputs": [],
   "source": [
    "myDog = Dog(3)"
   ]
  },
  {
   "cell_type": "code",
   "execution_count": 7,
   "id": "b84fbfd5-8271-45b1-8638-4f7a77506c38",
   "metadata": {},
   "outputs": [
    {
     "data": {
      "text/plain": [
       "3"
      ]
     },
     "execution_count": 7,
     "metadata": {},
     "output_type": "execute_result"
    }
   ],
   "source": [
    "myDog.age"
   ]
  },
  {
   "cell_type": "code",
   "execution_count": 8,
   "id": "28ca7595-c917-4073-a556-7a53be2ac7aa",
   "metadata": {},
   "outputs": [
    {
     "data": {
      "text/plain": [
       "21"
      ]
     },
     "execution_count": 8,
     "metadata": {},
     "output_type": "execute_result"
    }
   ],
   "source": [
    "myDog.humanAge()"
   ]
  },
  {
   "cell_type": "code",
   "execution_count": 9,
   "id": "5256b7ed-4d4f-4079-a59a-0997a565e224",
   "metadata": {},
   "outputs": [
    {
     "data": {
      "text/plain": [
       "21"
      ]
     },
     "execution_count": 9,
     "metadata": {},
     "output_type": "execute_result"
    }
   ],
   "source": [
    "myDog.dogHumanAge"
   ]
  },
  {
   "cell_type": "code",
   "execution_count": 10,
   "id": "e2a398ba-9921-4933-8e50-6b1a30a5edb7",
   "metadata": {},
   "outputs": [],
   "source": [
    "myDog2 = Dog()#default olarak tanımladığımız için parametreye gerek yok"
   ]
  },
  {
   "cell_type": "code",
   "execution_count": 11,
   "id": "ca66b9c9-9932-49f2-999b-652313ad0eab",
   "metadata": {},
   "outputs": [
    {
     "data": {
      "text/plain": [
       "5"
      ]
     },
     "execution_count": 11,
     "metadata": {},
     "output_type": "execute_result"
    }
   ],
   "source": [
    "myDog2.age"
   ]
  },
  {
   "cell_type": "code",
   "execution_count": null,
   "id": "05cf8375-a94c-4e08-ba4d-43cb4cefcc3f",
   "metadata": {},
   "outputs": [],
   "source": []
  },
  {
   "cell_type": "code",
   "execution_count": null,
   "id": "d400fde8-085d-4724-9d6a-f8e69384aedf",
   "metadata": {},
   "outputs": [],
   "source": []
  }
 ],
 "metadata": {
  "kernelspec": {
   "display_name": "Python [conda env:anaconda33]",
   "language": "python",
   "name": "conda-env-anaconda33-py"
  },
  "language_info": {
   "codemirror_mode": {
    "name": "ipython",
    "version": 3
   },
   "file_extension": ".py",
   "mimetype": "text/x-python",
   "name": "python",
   "nbconvert_exporter": "python",
   "pygments_lexer": "ipython3",
   "version": "3.12.7"
  }
 },
 "nbformat": 4,
 "nbformat_minor": 5
}
